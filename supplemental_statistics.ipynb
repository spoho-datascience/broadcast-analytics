{
 "cells": [
  {
   "cell_type": "markdown",
   "id": "fec92194",
   "metadata": {},
   "source": [
    "# Supplemental Statistics and Visualizations\n",
    "\n",
    "This notebook provides all calculations, statistics, and visualizations used to support the final publication results.\n",
    "\n",
    "**Note:**\n",
    "\n",
    "Raw position data files are not available to the user.\n",
    "Instead, all necessary pre-processed datasets and final outputs have been provided with the supplemental material.\n"
   ]
  },
  {
   "cell_type": "markdown",
   "id": "7ec8b8af",
   "metadata": {},
   "source": [
    "## 1. Data Import and Preprocessing"
   ]
  },
  {
   "cell_type": "code",
   "id": "95ae7a1f",
   "metadata": {
    "ExecuteTime": {
     "end_time": "2025-04-29T15:35:26.334256Z",
     "start_time": "2025-04-29T15:35:26.318669Z"
    }
   },
   "source": [
    "import os\n",
    "import ast\n",
    "\n",
    "import numpy as np\n",
    "import pandas as pd\n",
    "import jdata as jd\n",
    "import seaborn as sns\n",
    "import warnings\n",
    "\n",
    "import matplotlib.pyplot as plt\n",
    "\n",
    "plt.style.use(\"ggplot\")\n",
    "warnings.filterwarnings(\"ignore\")\n"
   ],
   "outputs": [],
   "execution_count": 38
  },
  {
   "cell_type": "markdown",
   "id": "47724ba3",
   "metadata": {},
   "source": [
    "## 1. Load Data and Preprocess\n"
   ]
  },
  {
   "cell_type": "code",
   "id": "fe11ee8c",
   "metadata": {
    "ExecuteTime": {
     "end_time": "2025-04-29T15:35:26.447409Z",
     "start_time": "2025-04-29T15:35:26.431793Z"
    }
   },
   "source": [
    "base_path = \"./data/\"\n",
    "intensity_metrics = pd.read_csv(f\"{base_path}results/intensity_metrics.csv\")"
   ],
   "outputs": [],
   "execution_count": 39
  },
  {
   "cell_type": "code",
   "id": "6c8bd8bf",
   "metadata": {
    "ExecuteTime": {
     "end_time": "2025-04-29T15:35:26.517417Z",
     "start_time": "2025-04-29T15:35:26.501636Z"
    }
   },
   "source": [
    "# Create a unique ID per player per match\n",
    "intensity_metrics[\"id\"] = intensity_metrics[\"pID\"] + intensity_metrics[\"match\"]\n",
    "# rescale visibility to percent\n",
    "intensity_metrics[\"visible_percent\"] = intensity_metrics[\"visible\"] * 100"
   ],
   "outputs": [],
   "execution_count": 40
  },
  {
   "cell_type": "markdown",
   "id": "3ec5c436",
   "metadata": {},
   "source": [
    "## 2. Descriptive Statistics\n",
    "\n",
    "We summarize player distributions by role and other basic properties."
   ]
  },
  {
   "cell_type": "code",
   "id": "4f9a6a9e",
   "metadata": {
    "ExecuteTime": {
     "end_time": "2025-04-29T15:35:26.608593Z",
     "start_time": "2025-04-29T15:35:26.595474Z"
    }
   },
   "source": [
    "# Count number of players per role\n",
    "# Divided by 2 because each player is listed twice (once per data source)\n",
    "intensity_metrics[\"role\"].value_counts()/2"
   ],
   "outputs": [
    {
     "data": {
      "text/plain": [
       "role\n",
       "DEF    28.0\n",
       "MID    17.0\n",
       "OFF    14.0\n",
       "GK      8.0\n",
       "Name: count, dtype: float64"
      ]
     },
     "execution_count": 41,
     "metadata": {},
     "output_type": "execute_result"
    }
   ],
   "execution_count": 41
  },
  {
   "cell_type": "code",
   "id": "5c0ab4cf",
   "metadata": {
    "ExecuteTime": {
     "end_time": "2025-04-29T15:35:34.196369Z",
     "start_time": "2025-04-29T15:35:26.717594Z"
    }
   },
   "source": [
    "# load raw data of player visibility\n",
    "vis_all = {\"SF\": {}, \"TV\": {}}\n",
    "for file in os.listdir(f\"{base_path}player_visibility/\"):\n",
    "    source, match = file.split(\"_\")[0], file.split(\"_\")[1]\n",
    "    visible = jd.load(f\"{base_path}player_visibility/{source}_{match}_visible_with_ballstatus.json\")\n",
    "    vis_all[source].update({match: visible})\n",
    "    for half in vis_all[source][match]:\n",
    "        for team in vis_all[source][match][half]:\n",
    "            vis_all[source][match][half][team] = vis_all[source][match][half][team][:45*60*25]\n",
    "\n",
    "matches = [\"DFL-MAT-0002UK\", \"DFL-MAT-0002YP\", \"DFL-MAT-000303\", \"DFL-MAT-000322\"]\n",
    "\n",
    "# frame-by-frame player visibility of all matches and both teams. 1 corresponds to visible, 0 corresponds to non-visible, NaN corresponds to player not on the pitch.\n",
    "vis_sf_frames = []\n",
    "vis_tv_frames = []\n",
    "ballstatus_frames = []\n",
    "for match in matches:\n",
    "    for half in [\"firstHalf\", \"secondHalf\"]:\n",
    "        for team in [\"Home\", \"Away\"]:\n",
    "            vis_sf_frames.append(vis_all[\"SF\"][match][half][team])\n",
    "            vis_tv_frames.append(vis_all[\"TV\"][match][half][team])\n",
    "            ballstatus_frames.append(vis_all[\"TV\"][match][half][\"ballstatus\"])\n",
    "\n",
    "\n",
    "# visibilities for SF\n",
    "vis_sf = np.concatenate(vis_sf_frames, axis=0)\n",
    "# visibilities for TV\n",
    "vis_tv = np.concatenate(vis_tv_frames, axis=0)\n",
    "# ballstatus of all matches. 1 corresponds to active, 0 corresponds to inactive\n",
    "ballstatus_all = np.concatenate(ballstatus_frames, axis=0)\n"
   ],
   "outputs": [],
   "execution_count": 42
  },
  {
   "cell_type": "markdown",
   "id": "f64d6dfe",
   "metadata": {},
   "source": "## 3. Visibility Analysis and Figure 3"
  },
  {
   "cell_type": "code",
   "id": "00a47303",
   "metadata": {
    "ExecuteTime": {
     "end_time": "2025-04-29T15:35:34.314483Z",
     "start_time": "2025-04-29T15:35:34.298672Z"
    }
   },
   "source": [
    "intensity_metrics.groupby([\"role\", \"source\"])[\"visible_percent\"].mean()"
   ],
   "outputs": [
    {
     "data": {
      "text/plain": [
       "role  source\n",
       "DEF   SF        97.215635\n",
       "      TV        37.264815\n",
       "GK    SF        34.883056\n",
       "      TV        14.059722\n",
       "MID   SF        98.515076\n",
       "      TV        47.837865\n",
       "OFF   SF        97.631534\n",
       "      TV        42.054497\n",
       "Name: visible_percent, dtype: float64"
      ]
     },
     "execution_count": 43,
     "metadata": {},
     "output_type": "execute_result"
    }
   ],
   "execution_count": 43
  },
  {
   "cell_type": "code",
   "id": "df943daa",
   "metadata": {
    "ExecuteTime": {
     "end_time": "2025-04-29T15:35:34.719710Z",
     "start_time": "2025-04-29T15:35:34.456903Z"
    }
   },
   "source": [
    "hue_order = [\"GK\", \"DEF\", \"MID\", \"OFF\"]\n",
    "fig, ax = plt.subplots(constrained_layout=True)\n",
    "palette=\"deep\"\n",
    "sns.stripplot(data=intensity_metrics, x=\"source\", y=\"visible_percent\", hue=\"role\", hue_order=hue_order , dodge=True, alpha=0.9, legend=False, ax=ax, palette=palette)\n",
    "sns.pointplot(data=intensity_metrics, x=\"source\", y=\"visible_percent\", hue=\"role\", hue_order=hue_order, linestyle=\"dashed\", errorbar=None, marker=\"_\", markersize=40, markeredgewidth=5, dodge=.6, ax=ax, palette=palette)\n",
    "ax.set_xticklabels((\"Scouting Feed\", \"TV\"), fontsize=18)\n",
    "ax.set_xlabel(\"Source\", fontsize=20)\n",
    "\n",
    "plt.yticks(fontsize=18)\n",
    "ax.set_ylabel(\"Position-group visibility in %\", fontsize=20)\n",
    "\n",
    "ax.legend(fontsize=18)\n",
    "fig.set_size_inches(12,7)\n",
    "\n",
    "# fig.savefig(\"fig 3.png\", dpi=600)"
   ],
   "outputs": [
    {
     "data": {
      "text/plain": [
       "<Figure size 1200x700 with 1 Axes>"
      ],
      "image/png": "[encoded data removed]"
     },
     "metadata": {},
     "output_type": "display_data"
    }
   ],
   "execution_count": 44
  },
  {
   "cell_type": "code",
   "id": "c3e0c2e3",
   "metadata": {
    "ExecuteTime": {
     "end_time": "2025-04-29T15:35:35.580462Z",
     "start_time": "2025-04-29T15:35:34.819661Z"
    }
   },
   "source": [
    "#number of visible players per frame in SF\n",
    "no_vis_sf = np.nansum(vis_sf, axis=1)\n",
    "# number of visible players per frame in TV\n",
    "no_vis_tv = np.nansum(vis_tv, axis=1)\n",
    "# player visibility split by active and inactive ball status\n",
    "vis_active_sf = np.nansum(vis_sf[ballstatus_all == 1], axis=1)\n",
    "vis_inactive_sf = np.nansum(vis_sf[ballstatus_all == 0], axis=1)\n",
    "vis_active_tv = np.nansum(vis_tv[ballstatus_all == 1], axis=1)\n",
    "vis_inactive_tv = np.nansum(vis_tv[ballstatus_all == 0], axis=1)"
   ],
   "outputs": [],
   "execution_count": 45
  },
  {
   "cell_type": "code",
   "id": "9e1ca057",
   "metadata": {
    "ExecuteTime": {
     "end_time": "2025-04-29T15:35:35.698407Z",
     "start_time": "2025-04-29T15:35:35.682762Z"
    }
   },
   "source": [
    "df = pd.DataFrame({\"SF\": no_vis_sf, \"TV\": no_vis_tv})"
   ],
   "outputs": [],
   "execution_count": 46
  },
  {
   "cell_type": "code",
   "id": "c0015389",
   "metadata": {
    "ExecuteTime": {
     "end_time": "2025-04-29T15:35:35.781751Z",
     "start_time": "2025-04-29T15:35:35.747528Z"
    }
   },
   "source": [
    "df[\"SF\"].value_counts() / len(df)"
   ],
   "outputs": [
    {
     "data": {
      "text/plain": [
       "SF\n",
       "10.0    0.582775\n",
       "11.0    0.321643\n",
       "9.0     0.068153\n",
       "8.0     0.010270\n",
       "7.0     0.003548\n",
       "0.0     0.003369\n",
       "6.0     0.002615\n",
       "5.0     0.002469\n",
       "4.0     0.001547\n",
       "1.0     0.001355\n",
       "3.0     0.001256\n",
       "2.0     0.001001\n",
       "Name: count, dtype: float64"
      ]
     },
     "execution_count": 47,
     "metadata": {},
     "output_type": "execute_result"
    }
   ],
   "execution_count": 47
  },
  {
   "cell_type": "code",
   "id": "70e74de7",
   "metadata": {
    "ExecuteTime": {
     "end_time": "2025-04-29T15:35:35.913342Z",
     "start_time": "2025-04-29T15:35:35.881806Z"
    }
   },
   "source": [
    "df[\"TV\"].value_counts() / len(df)"
   ],
   "outputs": [
    {
     "data": {
      "text/plain": [
       "TV\n",
       "0.0     0.387417\n",
       "7.0     0.093676\n",
       "8.0     0.087794\n",
       "10.0    0.083452\n",
       "6.0     0.082281\n",
       "9.0     0.078666\n",
       "5.0     0.057057\n",
       "4.0     0.039902\n",
       "11.0    0.035906\n",
       "3.0     0.025187\n",
       "2.0     0.015643\n",
       "1.0     0.013019\n",
       "Name: count, dtype: float64"
      ]
     },
     "execution_count": 48,
     "metadata": {},
     "output_type": "execute_result"
    }
   ],
   "execution_count": 48
  },
  {
   "cell_type": "code",
   "id": "5563cf6f",
   "metadata": {
    "ExecuteTime": {
     "end_time": "2025-04-29T15:35:36.145889Z",
     "start_time": "2025-04-29T15:35:36.051938Z"
    }
   },
   "source": [
    "activity_df = pd.concat(\n",
    "    [pd.DataFrame({\"source\": \"SF\", \"active\": 1, \"values\": vis_active_sf}),\n",
    "     pd.DataFrame({\"source\": \"SF\", \"active\": 0, \"values\": vis_inactive_sf}),\n",
    "     pd.DataFrame({\"source\": \"TV\", \"active\": 1, \"values\": vis_active_tv}),\n",
    "     pd.DataFrame({\"source\": \"TV\", \"active\": 0, \"values\": vis_inactive_tv})]\n",
    ")"
   ],
   "outputs": [],
   "execution_count": 49
  },
  {
   "cell_type": "code",
   "id": "92dcc29d",
   "metadata": {
    "ExecuteTime": {
     "end_time": "2025-04-29T15:35:36.643105Z",
     "start_time": "2025-04-29T15:35:36.317785Z"
    }
   },
   "source": [
    "activity_df.loc[activity_df[\"source\"] == \"TV\"][\"values\"].value_counts() / len(activity_df.loc[activity_df[\"source\"] == \"TV\"])\n"
   ],
   "outputs": [
    {
     "data": {
      "text/plain": [
       "values\n",
       "0.0     0.387417\n",
       "7.0     0.093676\n",
       "8.0     0.087794\n",
       "10.0    0.083452\n",
       "6.0     0.082281\n",
       "9.0     0.078666\n",
       "5.0     0.057057\n",
       "4.0     0.039902\n",
       "11.0    0.035906\n",
       "3.0     0.025187\n",
       "2.0     0.015643\n",
       "1.0     0.013019\n",
       "Name: count, dtype: float64"
      ]
     },
     "execution_count": 50,
     "metadata": {},
     "output_type": "execute_result"
    }
   ],
   "execution_count": 50
  },
  {
   "cell_type": "code",
   "id": "9d7c69cf",
   "metadata": {
    "ExecuteTime": {
     "end_time": "2025-04-29T15:35:37.044711Z",
     "start_time": "2025-04-29T15:35:36.783114Z"
    }
   },
   "source": "activity_df.loc[activity_df[\"source\"] == \"TV\"][\"active\"].value_counts() / len(activity_df.loc[activity_df[\"source\"] == \"TV\"])",
   "outputs": [
    {
     "data": {
      "text/plain": [
       "active\n",
       "1    0.559885\n",
       "0    0.440115\n",
       "Name: count, dtype: float64"
      ]
     },
     "execution_count": 51,
     "metadata": {},
     "output_type": "execute_result"
    }
   ],
   "execution_count": 51
  },
  {
   "cell_type": "code",
   "id": "11d1c900",
   "metadata": {
    "ExecuteTime": {
     "end_time": "2025-04-29T15:35:37.533096Z",
     "start_time": "2025-04-29T15:35:37.185232Z"
    }
   },
   "source": "activity_df.loc[activity_df[\"source\"] == \"TV\"].groupby(\"active\")[\"values\"].value_counts() / len(activity_df.loc[activity_df[\"source\"] == \"TV\"])",
   "outputs": [
    {
     "data": {
      "text/plain": [
       "active  values\n",
       "0       0.0       0.308868\n",
       "        10.0      0.021846\n",
       "        7.0       0.017796\n",
       "        8.0       0.016977\n",
       "        9.0       0.016761\n",
       "        11.0      0.014941\n",
       "        6.0       0.014528\n",
       "        5.0       0.010027\n",
       "        4.0       0.007129\n",
       "        3.0       0.005228\n",
       "        2.0       0.003372\n",
       "        1.0       0.002643\n",
       "1       0.0       0.078549\n",
       "        7.0       0.075880\n",
       "        8.0       0.070818\n",
       "        6.0       0.067754\n",
       "        9.0       0.061905\n",
       "        10.0      0.061606\n",
       "        5.0       0.047031\n",
       "        4.0       0.032773\n",
       "        11.0      0.020965\n",
       "        3.0       0.019959\n",
       "        2.0       0.012270\n",
       "        1.0       0.010377\n",
       "Name: count, dtype: float64"
      ]
     },
     "execution_count": 52,
     "metadata": {},
     "output_type": "execute_result"
    }
   ],
   "execution_count": 52
  },
  {
   "cell_type": "markdown",
   "id": "0cd32801",
   "metadata": {},
   "source": [
    "### Figure 2"
   ]
  },
  {
   "cell_type": "code",
   "id": "a4d5616a",
   "metadata": {
    "ExecuteTime": {
     "end_time": "2025-04-29T15:35:38.183308Z",
     "start_time": "2025-04-29T15:35:37.745277Z"
    }
   },
   "source": [
    "width = 0.4\n",
    "bins = np.arange(13) - 0.5\n",
    "weights_sf = [np.ones(len(vis_active_sf)) / len(no_vis_sf), np.ones(len(vis_active_tv)) / len(no_vis_tv)]\n",
    "weights_tv = [np.ones(len(vis_inactive_sf)) / len(no_vis_sf), np.ones(len(vis_inactive_tv)) / len(no_vis_tv)]\n",
    "hatches = [\"/\", \".\"]\n",
    "\n",
    "fig, ax = plt.subplots(constrained_layout=True)\n",
    "n1, bins1, patches1 = ax.hist([vis_inactive_sf, vis_inactive_tv], stacked=False, bins=bins, weights=weights_tv, width=width, align=\"mid\", label=[\"SF Inactive\", \"TV Inactive\"], color=[\"tomato\", \"lightsalmon\"], hatch=hatches, edgecolor=\"black\")\n",
    "for p in ax.patches:\n",
    "    p.set_height(-p.get_height())\n",
    "n2, bins2, patches2 = ax.hist([vis_active_sf, vis_active_tv], stacked=False, bins=bins, weights=weights_sf, width=width, align=\"mid\", label=[\"SF Active\", \"TV Active\"], color=[\"olivedrab\", \"yellowgreen\"], hatch=hatches, edgecolor=\"black\")\n",
    "\n",
    "for data_patches, hatch in zip(patches1, hatches):\n",
    "    for patch in data_patches:\n",
    "        patch.set_hatch(hatch)\n",
    "\n",
    "for data_patches, hatch in zip(patches2, hatches):\n",
    "    for patch in data_patches:\n",
    "        patch.set_hatch(hatch)\n",
    "\n",
    "ax.set_ylim([-0.4, 0.4])\n",
    "ax.set_yticklabels(abs(ax.get_yticks()))\n",
    "\n",
    "ax.set_yticklabels([f\"{round(abs(t * 100))} %\" for t in ax.get_yticks()])\n",
    " \n",
    "plt.xticks(range(12))\n",
    "ax.set_xlabel(\"Number of players visible\", fontsize=18)\n",
    "ax.set_ylabel(\"Frequency in %\", fontsize=18)\n",
    "plt.xticks(fontsize=14)\n",
    "plt.yticks(fontsize=14)\n",
    "ax.legend(fontsize=14, loc=\"upper center\")\n",
    "fig.set_size_inches(10.5, 7)\n",
    "\n",
    "# fig.savefig(\"fig 2.png\", dpi=600)"
   ],
   "outputs": [
    {
     "data": {
      "text/plain": [
       "<Figure size 1050x700 with 1 Axes>"
      ],
      "image/png": "[encoded data removed]"
     },
     "metadata": {},
     "output_type": "display_data"
    }
   ],
   "execution_count": 53
  },
  {
   "cell_type": "markdown",
   "id": "2725e4a1",
   "metadata": {},
   "source": [
    "\n",
    "### Experiment 1"
   ]
  },
  {
   "cell_type": "code",
   "id": "65dc7e59",
   "metadata": {
    "ExecuteTime": {
     "end_time": "2025-04-29T15:35:38.336766Z",
     "start_time": "2025-04-29T15:35:38.320981Z"
    }
   },
   "source": [
    "np.round(intensity_metrics.groupby([\"source\", \"role\"])[[\"distance_percent\", \"high_speed_percent\", \"visible\"]].mean(), 2)"
   ],
   "outputs": [
    {
     "data": {
      "text/plain": [
       "             distance_percent  high_speed_percent  visible\n",
       "source role                                               \n",
       "SF     DEF               0.98                0.94     0.97\n",
       "       GK                0.37                0.71     0.35\n",
       "       MID               0.99                0.92     0.99\n",
       "       OFF               0.98                0.93     0.98\n",
       "TV     DEF               0.44                0.49     0.37\n",
       "       GK                0.17                0.31     0.14\n",
       "       MID               0.55                0.48     0.48\n",
       "       OFF               0.49                0.52     0.42"
      ],
      "text/html": [
       "<div>\n",
       "<style scoped>\n",
       "    .dataframe tbody tr th:only-of-type {\n",
       "        vertical-align: middle;\n",
       "    }\n",
       "\n",
       "    .dataframe tbody tr th {\n",
       "        vertical-align: top;\n",
       "    }\n",
       "\n",
       "    .dataframe thead th {\n",
       "        text-align: right;\n",
       "    }\n",
       "</style>\n",
       "<table border=\"1\" class=\"dataframe\">\n",
       "  <thead>\n",
       "    <tr style=\"text-align: right;\">\n",
       "      <th></th>\n",
       "      <th></th>\n",
       "      <th>distance_percent</th>\n",
       "      <th>high_speed_percent</th>\n",
       "      <th>visible</th>\n",
       "    </tr>\n",
       "    <tr>\n",
       "      <th>source</th>\n",
       "      <th>role</th>\n",
       "      <th></th>\n",
       "      <th></th>\n",
       "      <th></th>\n",
       "    </tr>\n",
       "  </thead>\n",
       "  <tbody>\n",
       "    <tr>\n",
       "      <th rowspan=\"4\" valign=\"top\">SF</th>\n",
       "      <th>DEF</th>\n",
       "      <td>0.98</td>\n",
       "      <td>0.94</td>\n",
       "      <td>0.97</td>\n",
       "    </tr>\n",
       "    <tr>\n",
       "      <th>GK</th>\n",
       "      <td>0.37</td>\n",
       "      <td>0.71</td>\n",
       "      <td>0.35</td>\n",
       "    </tr>\n",
       "    <tr>\n",
       "      <th>MID</th>\n",
       "      <td>0.99</td>\n",
       "      <td>0.92</td>\n",
       "      <td>0.99</td>\n",
       "    </tr>\n",
       "    <tr>\n",
       "      <th>OFF</th>\n",
       "      <td>0.98</td>\n",
       "      <td>0.93</td>\n",
       "      <td>0.98</td>\n",
       "    </tr>\n",
       "    <tr>\n",
       "      <th rowspan=\"4\" valign=\"top\">TV</th>\n",
       "      <th>DEF</th>\n",
       "      <td>0.44</td>\n",
       "      <td>0.49</td>\n",
       "      <td>0.37</td>\n",
       "    </tr>\n",
       "    <tr>\n",
       "      <th>GK</th>\n",
       "      <td>0.17</td>\n",
       "      <td>0.31</td>\n",
       "      <td>0.14</td>\n",
       "    </tr>\n",
       "    <tr>\n",
       "      <th>MID</th>\n",
       "      <td>0.55</td>\n",
       "      <td>0.48</td>\n",
       "      <td>0.48</td>\n",
       "    </tr>\n",
       "    <tr>\n",
       "      <th>OFF</th>\n",
       "      <td>0.49</td>\n",
       "      <td>0.52</td>\n",
       "      <td>0.42</td>\n",
       "    </tr>\n",
       "  </tbody>\n",
       "</table>\n",
       "</div>"
      ]
     },
     "execution_count": 54,
     "metadata": {},
     "output_type": "execute_result"
    }
   ],
   "execution_count": 54
  },
  {
   "cell_type": "code",
   "id": "68357560",
   "metadata": {
    "ExecuteTime": {
     "end_time": "2025-04-29T15:35:38.483796Z",
     "start_time": "2025-04-29T15:35:38.456645Z"
    }
   },
   "source": [
    "np.round(intensity_metrics.groupby([\"source\", \"role\"])[[\"high_speed\", \"high_speed_visible\", \"high_speed_percent\"]].std(), 2)"
   ],
   "outputs": [
    {
     "data": {
      "text/plain": [
       "             high_speed  high_speed_visible  high_speed_percent\n",
       "source role                                                    \n",
       "SF     DEF       134.34              128.64                0.05\n",
       "       GK         26.60               20.13                0.34\n",
       "       MID       139.70              136.59                0.06\n",
       "       OFF       164.74              139.61                0.04\n",
       "TV     DEF       134.34               97.04                0.19\n",
       "       GK         26.60               11.28                0.37\n",
       "       MID       139.70               93.44                0.15\n",
       "       OFF       164.74               97.11                0.20"
      ],
      "text/html": [
       "<div>\n",
       "<style scoped>\n",
       "    .dataframe tbody tr th:only-of-type {\n",
       "        vertical-align: middle;\n",
       "    }\n",
       "\n",
       "    .dataframe tbody tr th {\n",
       "        vertical-align: top;\n",
       "    }\n",
       "\n",
       "    .dataframe thead th {\n",
       "        text-align: right;\n",
       "    }\n",
       "</style>\n",
       "<table border=\"1\" class=\"dataframe\">\n",
       "  <thead>\n",
       "    <tr style=\"text-align: right;\">\n",
       "      <th></th>\n",
       "      <th></th>\n",
       "      <th>high_speed</th>\n",
       "      <th>high_speed_visible</th>\n",
       "      <th>high_speed_percent</th>\n",
       "    </tr>\n",
       "    <tr>\n",
       "      <th>source</th>\n",
       "      <th>role</th>\n",
       "      <th></th>\n",
       "      <th></th>\n",
       "      <th></th>\n",
       "    </tr>\n",
       "  </thead>\n",
       "  <tbody>\n",
       "    <tr>\n",
       "      <th rowspan=\"4\" valign=\"top\">SF</th>\n",
       "      <th>DEF</th>\n",
       "      <td>134.34</td>\n",
       "      <td>128.64</td>\n",
       "      <td>0.05</td>\n",
       "    </tr>\n",
       "    <tr>\n",
       "      <th>GK</th>\n",
       "      <td>26.60</td>\n",
       "      <td>20.13</td>\n",
       "      <td>0.34</td>\n",
       "    </tr>\n",
       "    <tr>\n",
       "      <th>MID</th>\n",
       "      <td>139.70</td>\n",
       "      <td>136.59</td>\n",
       "      <td>0.06</td>\n",
       "    </tr>\n",
       "    <tr>\n",
       "      <th>OFF</th>\n",
       "      <td>164.74</td>\n",
       "      <td>139.61</td>\n",
       "      <td>0.04</td>\n",
       "    </tr>\n",
       "    <tr>\n",
       "      <th rowspan=\"4\" valign=\"top\">TV</th>\n",
       "      <th>DEF</th>\n",
       "      <td>134.34</td>\n",
       "      <td>97.04</td>\n",
       "      <td>0.19</td>\n",
       "    </tr>\n",
       "    <tr>\n",
       "      <th>GK</th>\n",
       "      <td>26.60</td>\n",
       "      <td>11.28</td>\n",
       "      <td>0.37</td>\n",
       "    </tr>\n",
       "    <tr>\n",
       "      <th>MID</th>\n",
       "      <td>139.70</td>\n",
       "      <td>93.44</td>\n",
       "      <td>0.15</td>\n",
       "    </tr>\n",
       "    <tr>\n",
       "      <th>OFF</th>\n",
       "      <td>164.74</td>\n",
       "      <td>97.11</td>\n",
       "      <td>0.20</td>\n",
       "    </tr>\n",
       "  </tbody>\n",
       "</table>\n",
       "</div>"
      ]
     },
     "execution_count": 55,
     "metadata": {},
     "output_type": "execute_result"
    }
   ],
   "execution_count": 55
  },
  {
   "cell_type": "code",
   "id": "7956f024",
   "metadata": {
    "ExecuteTime": {
     "end_time": "2025-04-29T15:35:38.653708Z",
     "start_time": "2025-04-29T15:35:38.637911Z"
    }
   },
   "source": [
    "np.round(intensity_metrics.groupby([\"source\", \"role\"])[[\"distance\", \"distance_visible\"]].mean()/1000, 2)"
   ],
   "outputs": [
    {
     "data": {
      "text/plain": [
       "             distance  distance_visible\n",
       "source role                            \n",
       "SF     DEF      10.10              9.91\n",
       "       GK        4.95              1.85\n",
       "       MID      11.06             10.95\n",
       "       OFF      10.62             10.44\n",
       "TV     DEF      10.10              4.46\n",
       "       GK        4.95              0.87\n",
       "       MID      11.06              6.14\n",
       "       OFF      10.62              5.25"
      ],
      "text/html": [
       "<div>\n",
       "<style scoped>\n",
       "    .dataframe tbody tr th:only-of-type {\n",
       "        vertical-align: middle;\n",
       "    }\n",
       "\n",
       "    .dataframe tbody tr th {\n",
       "        vertical-align: top;\n",
       "    }\n",
       "\n",
       "    .dataframe thead th {\n",
       "        text-align: right;\n",
       "    }\n",
       "</style>\n",
       "<table border=\"1\" class=\"dataframe\">\n",
       "  <thead>\n",
       "    <tr style=\"text-align: right;\">\n",
       "      <th></th>\n",
       "      <th></th>\n",
       "      <th>distance</th>\n",
       "      <th>distance_visible</th>\n",
       "    </tr>\n",
       "    <tr>\n",
       "      <th>source</th>\n",
       "      <th>role</th>\n",
       "      <th></th>\n",
       "      <th></th>\n",
       "    </tr>\n",
       "  </thead>\n",
       "  <tbody>\n",
       "    <tr>\n",
       "      <th rowspan=\"4\" valign=\"top\">SF</th>\n",
       "      <th>DEF</th>\n",
       "      <td>10.10</td>\n",
       "      <td>9.91</td>\n",
       "    </tr>\n",
       "    <tr>\n",
       "      <th>GK</th>\n",
       "      <td>4.95</td>\n",
       "      <td>1.85</td>\n",
       "    </tr>\n",
       "    <tr>\n",
       "      <th>MID</th>\n",
       "      <td>11.06</td>\n",
       "      <td>10.95</td>\n",
       "    </tr>\n",
       "    <tr>\n",
       "      <th>OFF</th>\n",
       "      <td>10.62</td>\n",
       "      <td>10.44</td>\n",
       "    </tr>\n",
       "    <tr>\n",
       "      <th rowspan=\"4\" valign=\"top\">TV</th>\n",
       "      <th>DEF</th>\n",
       "      <td>10.10</td>\n",
       "      <td>4.46</td>\n",
       "    </tr>\n",
       "    <tr>\n",
       "      <th>GK</th>\n",
       "      <td>4.95</td>\n",
       "      <td>0.87</td>\n",
       "    </tr>\n",
       "    <tr>\n",
       "      <th>MID</th>\n",
       "      <td>11.06</td>\n",
       "      <td>6.14</td>\n",
       "    </tr>\n",
       "    <tr>\n",
       "      <th>OFF</th>\n",
       "      <td>10.62</td>\n",
       "      <td>5.25</td>\n",
       "    </tr>\n",
       "  </tbody>\n",
       "</table>\n",
       "</div>"
      ]
     },
     "execution_count": 56,
     "metadata": {},
     "output_type": "execute_result"
    }
   ],
   "execution_count": 56
  },
  {
   "cell_type": "code",
   "id": "ac5f1037",
   "metadata": {
    "ExecuteTime": {
     "end_time": "2025-04-29T15:35:38.837526Z",
     "start_time": "2025-04-29T15:35:38.821889Z"
    }
   },
   "source": [
    "np.round(intensity_metrics.groupby([\"source\", \"role\"])[[\"distance\", \"distance_visible\"]].std()/1000, 2)"
   ],
   "outputs": [
    {
     "data": {
      "text/plain": [
       "             distance  distance_visible\n",
       "source role                            \n",
       "SF     DEF       0.63              0.60\n",
       "       GK        0.51              0.52\n",
       "       MID       0.78              0.81\n",
       "       OFF       0.77              0.80\n",
       "TV     DEF       0.63              0.88\n",
       "       GK        0.51              0.21\n",
       "       MID       0.78              1.37\n",
       "       OFF       0.77              1.34"
      ],
      "text/html": [
       "<div>\n",
       "<style scoped>\n",
       "    .dataframe tbody tr th:only-of-type {\n",
       "        vertical-align: middle;\n",
       "    }\n",
       "\n",
       "    .dataframe tbody tr th {\n",
       "        vertical-align: top;\n",
       "    }\n",
       "\n",
       "    .dataframe thead th {\n",
       "        text-align: right;\n",
       "    }\n",
       "</style>\n",
       "<table border=\"1\" class=\"dataframe\">\n",
       "  <thead>\n",
       "    <tr style=\"text-align: right;\">\n",
       "      <th></th>\n",
       "      <th></th>\n",
       "      <th>distance</th>\n",
       "      <th>distance_visible</th>\n",
       "    </tr>\n",
       "    <tr>\n",
       "      <th>source</th>\n",
       "      <th>role</th>\n",
       "      <th></th>\n",
       "      <th></th>\n",
       "    </tr>\n",
       "  </thead>\n",
       "  <tbody>\n",
       "    <tr>\n",
       "      <th rowspan=\"4\" valign=\"top\">SF</th>\n",
       "      <th>DEF</th>\n",
       "      <td>0.63</td>\n",
       "      <td>0.60</td>\n",
       "    </tr>\n",
       "    <tr>\n",
       "      <th>GK</th>\n",
       "      <td>0.51</td>\n",
       "      <td>0.52</td>\n",
       "    </tr>\n",
       "    <tr>\n",
       "      <th>MID</th>\n",
       "      <td>0.78</td>\n",
       "      <td>0.81</td>\n",
       "    </tr>\n",
       "    <tr>\n",
       "      <th>OFF</th>\n",
       "      <td>0.77</td>\n",
       "      <td>0.80</td>\n",
       "    </tr>\n",
       "    <tr>\n",
       "      <th rowspan=\"4\" valign=\"top\">TV</th>\n",
       "      <th>DEF</th>\n",
       "      <td>0.63</td>\n",
       "      <td>0.88</td>\n",
       "    </tr>\n",
       "    <tr>\n",
       "      <th>GK</th>\n",
       "      <td>0.51</td>\n",
       "      <td>0.21</td>\n",
       "    </tr>\n",
       "    <tr>\n",
       "      <th>MID</th>\n",
       "      <td>0.78</td>\n",
       "      <td>1.37</td>\n",
       "    </tr>\n",
       "    <tr>\n",
       "      <th>OFF</th>\n",
       "      <td>0.77</td>\n",
       "      <td>1.34</td>\n",
       "    </tr>\n",
       "  </tbody>\n",
       "</table>\n",
       "</div>"
      ]
     },
     "execution_count": 57,
     "metadata": {},
     "output_type": "execute_result"
    }
   ],
   "execution_count": 57
  },
  {
   "cell_type": "code",
   "id": "9741e487",
   "metadata": {
    "ExecuteTime": {
     "end_time": "2025-04-29T15:35:39.083602Z",
     "start_time": "2025-04-29T15:35:39.070238Z"
    }
   },
   "source": [
    "intensity_metrics[\"distance_active\"] = intensity_metrics[\"distance\"] * intensity_metrics[\"match_active\"]\n",
    "intensity_metrics[\"distance_inactive\"] = intensity_metrics[\"distance\"] - intensity_metrics[\"distance_active\"]\n",
    "intensity_metrics[\"high_speed_distance_active\"] = intensity_metrics[\"high_speed\"] * intensity_metrics[\"match_active\"]\n",
    "intensity_metrics[\"high_speed_distance_inactive\"] = intensity_metrics[\"high_speed\"] - intensity_metrics[\"high_speed_distance_active\"]"
   ],
   "outputs": [],
   "execution_count": 58
  },
  {
   "cell_type": "code",
   "id": "cb88244d",
   "metadata": {
    "ExecuteTime": {
     "end_time": "2025-04-29T15:35:39.284238Z",
     "start_time": "2025-04-29T15:35:39.265583Z"
    }
   },
   "source": [
    "np.round(intensity_metrics.groupby(\"role\")[[\"distance_active\", \"distance_inactive\"]].mean()/1000, 2)"
   ],
   "outputs": [
    {
     "data": {
      "text/plain": [
       "      distance_active  distance_inactive\n",
       "role                                    \n",
       "DEF              5.67               4.43\n",
       "GK               2.77               2.19\n",
       "MID              6.24               4.82\n",
       "OFF              5.92               4.70"
      ],
      "text/html": [
       "<div>\n",
       "<style scoped>\n",
       "    .dataframe tbody tr th:only-of-type {\n",
       "        vertical-align: middle;\n",
       "    }\n",
       "\n",
       "    .dataframe tbody tr th {\n",
       "        vertical-align: top;\n",
       "    }\n",
       "\n",
       "    .dataframe thead th {\n",
       "        text-align: right;\n",
       "    }\n",
       "</style>\n",
       "<table border=\"1\" class=\"dataframe\">\n",
       "  <thead>\n",
       "    <tr style=\"text-align: right;\">\n",
       "      <th></th>\n",
       "      <th>distance_active</th>\n",
       "      <th>distance_inactive</th>\n",
       "    </tr>\n",
       "    <tr>\n",
       "      <th>role</th>\n",
       "      <th></th>\n",
       "      <th></th>\n",
       "    </tr>\n",
       "  </thead>\n",
       "  <tbody>\n",
       "    <tr>\n",
       "      <th>DEF</th>\n",
       "      <td>5.67</td>\n",
       "      <td>4.43</td>\n",
       "    </tr>\n",
       "    <tr>\n",
       "      <th>GK</th>\n",
       "      <td>2.77</td>\n",
       "      <td>2.19</td>\n",
       "    </tr>\n",
       "    <tr>\n",
       "      <th>MID</th>\n",
       "      <td>6.24</td>\n",
       "      <td>4.82</td>\n",
       "    </tr>\n",
       "    <tr>\n",
       "      <th>OFF</th>\n",
       "      <td>5.92</td>\n",
       "      <td>4.70</td>\n",
       "    </tr>\n",
       "  </tbody>\n",
       "</table>\n",
       "</div>"
      ]
     },
     "execution_count": 59,
     "metadata": {},
     "output_type": "execute_result"
    }
   ],
   "execution_count": 59
  },
  {
   "cell_type": "code",
   "id": "5cd817a3",
   "metadata": {
    "ExecuteTime": {
     "end_time": "2025-04-29T15:35:39.435591Z",
     "start_time": "2025-04-29T15:35:39.419624Z"
    }
   },
   "source": [
    "np.round(intensity_metrics.groupby(\"role\")[[\"distance_active\", \"distance_inactive\"]].std()/1000, 2)"
   ],
   "outputs": [
    {
     "data": {
      "text/plain": [
       "      distance_active  distance_inactive\n",
       "role                                    \n",
       "DEF              0.84               0.61\n",
       "GK               0.41               0.44\n",
       "MID              1.00               0.54\n",
       "OFF              1.05               0.51"
      ],
      "text/html": [
       "<div>\n",
       "<style scoped>\n",
       "    .dataframe tbody tr th:only-of-type {\n",
       "        vertical-align: middle;\n",
       "    }\n",
       "\n",
       "    .dataframe tbody tr th {\n",
       "        vertical-align: top;\n",
       "    }\n",
       "\n",
       "    .dataframe thead th {\n",
       "        text-align: right;\n",
       "    }\n",
       "</style>\n",
       "<table border=\"1\" class=\"dataframe\">\n",
       "  <thead>\n",
       "    <tr style=\"text-align: right;\">\n",
       "      <th></th>\n",
       "      <th>distance_active</th>\n",
       "      <th>distance_inactive</th>\n",
       "    </tr>\n",
       "    <tr>\n",
       "      <th>role</th>\n",
       "      <th></th>\n",
       "      <th></th>\n",
       "    </tr>\n",
       "  </thead>\n",
       "  <tbody>\n",
       "    <tr>\n",
       "      <th>DEF</th>\n",
       "      <td>0.84</td>\n",
       "      <td>0.61</td>\n",
       "    </tr>\n",
       "    <tr>\n",
       "      <th>GK</th>\n",
       "      <td>0.41</td>\n",
       "      <td>0.44</td>\n",
       "    </tr>\n",
       "    <tr>\n",
       "      <th>MID</th>\n",
       "      <td>1.00</td>\n",
       "      <td>0.54</td>\n",
       "    </tr>\n",
       "    <tr>\n",
       "      <th>OFF</th>\n",
       "      <td>1.05</td>\n",
       "      <td>0.51</td>\n",
       "    </tr>\n",
       "  </tbody>\n",
       "</table>\n",
       "</div>"
      ]
     },
     "execution_count": 60,
     "metadata": {},
     "output_type": "execute_result"
    }
   ],
   "execution_count": 60
  },
  {
   "cell_type": "code",
   "id": "c7511afd",
   "metadata": {
    "ExecuteTime": {
     "end_time": "2025-04-29T15:35:39.621076Z",
     "start_time": "2025-04-29T15:35:39.592585Z"
    }
   },
   "source": [
    "np.round(intensity_metrics.groupby(\"role\")[[\"high_speed_distance_active\", \"high_speed_distance_inactive\"]].mean(), 2)"
   ],
   "outputs": [
    {
     "data": {
      "text/plain": [
       "      high_speed_distance_active  high_speed_distance_inactive\n",
       "role                                                          \n",
       "DEF                       210.04                        172.29\n",
       "GK                         17.70                         14.16\n",
       "MID                       202.81                        166.07\n",
       "OFF                       279.26                        233.61"
      ],
      "text/html": [
       "<div>\n",
       "<style scoped>\n",
       "    .dataframe tbody tr th:only-of-type {\n",
       "        vertical-align: middle;\n",
       "    }\n",
       "\n",
       "    .dataframe tbody tr th {\n",
       "        vertical-align: top;\n",
       "    }\n",
       "\n",
       "    .dataframe thead th {\n",
       "        text-align: right;\n",
       "    }\n",
       "</style>\n",
       "<table border=\"1\" class=\"dataframe\">\n",
       "  <thead>\n",
       "    <tr style=\"text-align: right;\">\n",
       "      <th></th>\n",
       "      <th>high_speed_distance_active</th>\n",
       "      <th>high_speed_distance_inactive</th>\n",
       "    </tr>\n",
       "    <tr>\n",
       "      <th>role</th>\n",
       "      <th></th>\n",
       "      <th></th>\n",
       "    </tr>\n",
       "  </thead>\n",
       "  <tbody>\n",
       "    <tr>\n",
       "      <th>DEF</th>\n",
       "      <td>210.04</td>\n",
       "      <td>172.29</td>\n",
       "    </tr>\n",
       "    <tr>\n",
       "      <th>GK</th>\n",
       "      <td>17.70</td>\n",
       "      <td>14.16</td>\n",
       "    </tr>\n",
       "    <tr>\n",
       "      <th>MID</th>\n",
       "      <td>202.81</td>\n",
       "      <td>166.07</td>\n",
       "    </tr>\n",
       "    <tr>\n",
       "      <th>OFF</th>\n",
       "      <td>279.26</td>\n",
       "      <td>233.61</td>\n",
       "    </tr>\n",
       "  </tbody>\n",
       "</table>\n",
       "</div>"
      ]
     },
     "execution_count": 61,
     "metadata": {},
     "output_type": "execute_result"
    }
   ],
   "execution_count": 61
  },
  {
   "cell_type": "code",
   "id": "06435603",
   "metadata": {
    "ExecuteTime": {
     "end_time": "2025-04-29T15:35:39.868831Z",
     "start_time": "2025-04-29T15:35:39.852609Z"
    }
   },
   "source": [
    "np.round(intensity_metrics.groupby(\"role\")[[\"high_speed_distance_active\", \"high_speed_distance_inactive\"]].std(), 2)"
   ],
   "outputs": [
    {
     "data": {
      "text/plain": [
       "      high_speed_distance_active  high_speed_distance_inactive\n",
       "role                                                          \n",
       "DEF                        69.02                         75.49\n",
       "GK                         15.27                         11.11\n",
       "MID                        70.49                         77.09\n",
       "OFF                        85.13                         94.46"
      ],
      "text/html": [
       "<div>\n",
       "<style scoped>\n",
       "    .dataframe tbody tr th:only-of-type {\n",
       "        vertical-align: middle;\n",
       "    }\n",
       "\n",
       "    .dataframe tbody tr th {\n",
       "        vertical-align: top;\n",
       "    }\n",
       "\n",
       "    .dataframe thead th {\n",
       "        text-align: right;\n",
       "    }\n",
       "</style>\n",
       "<table border=\"1\" class=\"dataframe\">\n",
       "  <thead>\n",
       "    <tr style=\"text-align: right;\">\n",
       "      <th></th>\n",
       "      <th>high_speed_distance_active</th>\n",
       "      <th>high_speed_distance_inactive</th>\n",
       "    </tr>\n",
       "    <tr>\n",
       "      <th>role</th>\n",
       "      <th></th>\n",
       "      <th></th>\n",
       "    </tr>\n",
       "  </thead>\n",
       "  <tbody>\n",
       "    <tr>\n",
       "      <th>DEF</th>\n",
       "      <td>69.02</td>\n",
       "      <td>75.49</td>\n",
       "    </tr>\n",
       "    <tr>\n",
       "      <th>GK</th>\n",
       "      <td>15.27</td>\n",
       "      <td>11.11</td>\n",
       "    </tr>\n",
       "    <tr>\n",
       "      <th>MID</th>\n",
       "      <td>70.49</td>\n",
       "      <td>77.09</td>\n",
       "    </tr>\n",
       "    <tr>\n",
       "      <th>OFF</th>\n",
       "      <td>85.13</td>\n",
       "      <td>94.46</td>\n",
       "    </tr>\n",
       "  </tbody>\n",
       "</table>\n",
       "</div>"
      ]
     },
     "execution_count": 62,
     "metadata": {},
     "output_type": "execute_result"
    }
   ],
   "execution_count": 62
  },
  {
   "cell_type": "code",
   "id": "c079511d",
   "metadata": {
    "ExecuteTime": {
     "end_time": "2025-04-29T15:35:40.127070Z",
     "start_time": "2025-04-29T15:35:40.111765Z"
    }
   },
   "source": [
    "intensity_metrics[\"distance_visible_active\"] = intensity_metrics[\"distance\"] * intensity_metrics[\"active_visible\"]\n",
    "intensity_metrics[\"distance_visible_inactive\"] = intensity_metrics[\"distance\"] * intensity_metrics[\"inactive_visible\"]\n",
    "intensity_metrics[\"distance_extrapolated\"] = intensity_metrics[\"distance_visible\"] * 1/intensity_metrics[\"visible\"]"
   ],
   "outputs": [],
   "execution_count": 63
  },
  {
   "cell_type": "code",
   "id": "bc66b95b",
   "metadata": {
    "ExecuteTime": {
     "end_time": "2025-04-29T15:35:40.284921Z",
     "start_time": "2025-04-29T15:35:40.266772Z"
    }
   },
   "source": "np.round(intensity_metrics.groupby([\"source\", \"role\"])[[\"distance_visible_active\", \"distance_visible_inactive\", \"distance_extrapolated\"]].mean()/1000, 2)",
   "outputs": [
    {
     "data": {
      "text/plain": [
       "             distance_visible_active  distance_visible_inactive  \\\n",
       "source role                                                       \n",
       "SF     DEF                      5.63                       4.18   \n",
       "       GK                       0.92                       0.81   \n",
       "       MID                      6.22                       4.68   \n",
       "       OFF                      5.87                       4.49   \n",
       "TV     DEF                      2.92                       0.86   \n",
       "       GK                       0.51                       0.19   \n",
       "       MID                      4.16                       1.17   \n",
       "       OFF                      3.49                       1.03   \n",
       "\n",
       "             distance_extrapolated  \n",
       "source role                         \n",
       "SF     DEF                   10.20  \n",
       "       GK                     5.42  \n",
       "       MID                   11.11  \n",
       "       OFF                   10.69  \n",
       "TV     DEF                   11.93  \n",
       "       GK                     6.27  \n",
       "       MID                   12.72  \n",
       "       OFF                   12.34  "
      ],
      "text/html": [
       "<div>\n",
       "<style scoped>\n",
       "    .dataframe tbody tr th:only-of-type {\n",
       "        vertical-align: middle;\n",
       "    }\n",
       "\n",
       "    .dataframe tbody tr th {\n",
       "        vertical-align: top;\n",
       "    }\n",
       "\n",
       "    .dataframe thead th {\n",
       "        text-align: right;\n",
       "    }\n",
       "</style>\n",
       "<table border=\"1\" class=\"dataframe\">\n",
       "  <thead>\n",
       "    <tr style=\"text-align: right;\">\n",
       "      <th></th>\n",
       "      <th></th>\n",
       "      <th>distance_visible_active</th>\n",
       "      <th>distance_visible_inactive</th>\n",
       "      <th>distance_extrapolated</th>\n",
       "    </tr>\n",
       "    <tr>\n",
       "      <th>source</th>\n",
       "      <th>role</th>\n",
       "      <th></th>\n",
       "      <th></th>\n",
       "      <th></th>\n",
       "    </tr>\n",
       "  </thead>\n",
       "  <tbody>\n",
       "    <tr>\n",
       "      <th rowspan=\"4\" valign=\"top\">SF</th>\n",
       "      <th>DEF</th>\n",
       "      <td>5.63</td>\n",
       "      <td>4.18</td>\n",
       "      <td>10.20</td>\n",
       "    </tr>\n",
       "    <tr>\n",
       "      <th>GK</th>\n",
       "      <td>0.92</td>\n",
       "      <td>0.81</td>\n",
       "      <td>5.42</td>\n",
       "    </tr>\n",
       "    <tr>\n",
       "      <th>MID</th>\n",
       "      <td>6.22</td>\n",
       "      <td>4.68</td>\n",
       "      <td>11.11</td>\n",
       "    </tr>\n",
       "    <tr>\n",
       "      <th>OFF</th>\n",
       "      <td>5.87</td>\n",
       "      <td>4.49</td>\n",
       "      <td>10.69</td>\n",
       "    </tr>\n",
       "    <tr>\n",
       "      <th rowspan=\"4\" valign=\"top\">TV</th>\n",
       "      <th>DEF</th>\n",
       "      <td>2.92</td>\n",
       "      <td>0.86</td>\n",
       "      <td>11.93</td>\n",
       "    </tr>\n",
       "    <tr>\n",
       "      <th>GK</th>\n",
       "      <td>0.51</td>\n",
       "      <td>0.19</td>\n",
       "      <td>6.27</td>\n",
       "    </tr>\n",
       "    <tr>\n",
       "      <th>MID</th>\n",
       "      <td>4.16</td>\n",
       "      <td>1.17</td>\n",
       "      <td>12.72</td>\n",
       "    </tr>\n",
       "    <tr>\n",
       "      <th>OFF</th>\n",
       "      <td>3.49</td>\n",
       "      <td>1.03</td>\n",
       "      <td>12.34</td>\n",
       "    </tr>\n",
       "  </tbody>\n",
       "</table>\n",
       "</div>"
      ]
     },
     "execution_count": 64,
     "metadata": {},
     "output_type": "execute_result"
    }
   ],
   "execution_count": 64
  },
  {
   "cell_type": "code",
   "id": "2b475b82",
   "metadata": {
    "ExecuteTime": {
     "end_time": "2025-04-29T15:35:40.482790Z",
     "start_time": "2025-04-29T15:35:40.452381Z"
    }
   },
   "source": "np.round(intensity_metrics.groupby([\"source\", \"role\"])[[\"distance_visible_active\", \"distance_visible_inactive\", \"distance_extrapolated\"]].std()/1000, 2)",
   "outputs": [
    {
     "data": {
      "text/plain": [
       "             distance_visible_active  distance_visible_inactive  \\\n",
       "source role                                                       \n",
       "SF     DEF                      0.83                       0.56   \n",
       "       GK                       0.33                       0.37   \n",
       "       MID                      1.02                       0.52   \n",
       "       OFF                      1.06                       0.47   \n",
       "TV     DEF                      0.71                       0.19   \n",
       "       GK                       0.17                       0.07   \n",
       "       MID                      1.12                       0.30   \n",
       "       OFF                      1.10                       0.22   \n",
       "\n",
       "             distance_extrapolated  \n",
       "source role                         \n",
       "SF     DEF                    0.73  \n",
       "       GK                     0.69  \n",
       "       MID                    0.78  \n",
       "       OFF                    0.79  \n",
       "TV     DEF                    0.89  \n",
       "       GK                     0.74  \n",
       "       MID                    0.81  \n",
       "       OFF                    1.14  "
      ],
      "text/html": [
       "<div>\n",
       "<style scoped>\n",
       "    .dataframe tbody tr th:only-of-type {\n",
       "        vertical-align: middle;\n",
       "    }\n",
       "\n",
       "    .dataframe tbody tr th {\n",
       "        vertical-align: top;\n",
       "    }\n",
       "\n",
       "    .dataframe thead th {\n",
       "        text-align: right;\n",
       "    }\n",
       "</style>\n",
       "<table border=\"1\" class=\"dataframe\">\n",
       "  <thead>\n",
       "    <tr style=\"text-align: right;\">\n",
       "      <th></th>\n",
       "      <th></th>\n",
       "      <th>distance_visible_active</th>\n",
       "      <th>distance_visible_inactive</th>\n",
       "      <th>distance_extrapolated</th>\n",
       "    </tr>\n",
       "    <tr>\n",
       "      <th>source</th>\n",
       "      <th>role</th>\n",
       "      <th></th>\n",
       "      <th></th>\n",
       "      <th></th>\n",
       "    </tr>\n",
       "  </thead>\n",
       "  <tbody>\n",
       "    <tr>\n",
       "      <th rowspan=\"4\" valign=\"top\">SF</th>\n",
       "      <th>DEF</th>\n",
       "      <td>0.83</td>\n",
       "      <td>0.56</td>\n",
       "      <td>0.73</td>\n",
       "    </tr>\n",
       "    <tr>\n",
       "      <th>GK</th>\n",
       "      <td>0.33</td>\n",
       "      <td>0.37</td>\n",
       "      <td>0.69</td>\n",
       "    </tr>\n",
       "    <tr>\n",
       "      <th>MID</th>\n",
       "      <td>1.02</td>\n",
       "      <td>0.52</td>\n",
       "      <td>0.78</td>\n",
       "    </tr>\n",
       "    <tr>\n",
       "      <th>OFF</th>\n",
       "      <td>1.06</td>\n",
       "      <td>0.47</td>\n",
       "      <td>0.79</td>\n",
       "    </tr>\n",
       "    <tr>\n",
       "      <th rowspan=\"4\" valign=\"top\">TV</th>\n",
       "      <th>DEF</th>\n",
       "      <td>0.71</td>\n",
       "      <td>0.19</td>\n",
       "      <td>0.89</td>\n",
       "    </tr>\n",
       "    <tr>\n",
       "      <th>GK</th>\n",
       "      <td>0.17</td>\n",
       "      <td>0.07</td>\n",
       "      <td>0.74</td>\n",
       "    </tr>\n",
       "    <tr>\n",
       "      <th>MID</th>\n",
       "      <td>1.12</td>\n",
       "      <td>0.30</td>\n",
       "      <td>0.81</td>\n",
       "    </tr>\n",
       "    <tr>\n",
       "      <th>OFF</th>\n",
       "      <td>1.10</td>\n",
       "      <td>0.22</td>\n",
       "      <td>1.14</td>\n",
       "    </tr>\n",
       "  </tbody>\n",
       "</table>\n",
       "</div>"
      ]
     },
     "execution_count": 65,
     "metadata": {},
     "output_type": "execute_result"
    }
   ],
   "execution_count": 65
  },
  {
   "cell_type": "code",
   "id": "f2cc81f8",
   "metadata": {
    "ExecuteTime": {
     "end_time": "2025-04-29T15:35:40.734342Z",
     "start_time": "2025-04-29T15:35:40.710340Z"
    }
   },
   "source": [
    "intensity_metrics[\"high_speed_distance_visible_active\"] = intensity_metrics[\"high_speed\"] * intensity_metrics[\"active_visible\"]\n",
    "intensity_metrics[\"high_speed_distance_visible_inactive\"] = intensity_metrics[\"high_speed\"] * intensity_metrics[\"inactive_visible\"]\n",
    "intensity_metrics[\"high_speed_distance_extrapolated\"] = intensity_metrics[\"high_speed_visible\"] * 1/intensity_metrics[\"visible\"]"
   ],
   "outputs": [],
   "execution_count": 66
  },
  {
   "cell_type": "code",
   "id": "54acc397",
   "metadata": {
    "ExecuteTime": {
     "end_time": "2025-04-29T15:35:40.930360Z",
     "start_time": "2025-04-29T15:35:40.914536Z"
    }
   },
   "source": [
    "np.round(intensity_metrics.groupby([\"source\", \"role\"])[[\"high_speed_distance_visible_active\", \"high_speed_distance_visible_inactive\", \"high_speed_distance_extrapolated\"]].mean(), 2)"
   ],
   "outputs": [
    {
     "data": {
      "text/plain": [
       "             high_speed_distance_visible_active  \\\n",
       "source role                                       \n",
       "SF     DEF                               208.58   \n",
       "       GK                                  6.36   \n",
       "       MID                               202.27   \n",
       "       OFF                               276.93   \n",
       "TV     DEF                               106.75   \n",
       "       GK                                  3.19   \n",
       "       MID                               131.05   \n",
       "       OFF                               157.53   \n",
       "\n",
       "             high_speed_distance_visible_inactive  \\\n",
       "source role                                         \n",
       "SF     DEF                                 162.06   \n",
       "       GK                                    5.71   \n",
       "       MID                                 160.79   \n",
       "       OFF                                 223.09   \n",
       "TV     DEF                                  32.97   \n",
       "       GK                                    1.25   \n",
       "       MID                                  39.73   \n",
       "       OFF                                  50.48   \n",
       "\n",
       "             high_speed_distance_extrapolated  \n",
       "source role                                    \n",
       "SF     DEF                             371.41  \n",
       "       GK                               60.35  \n",
       "       MID                             348.35  \n",
       "       OFF                             486.00  \n",
       "TV     DEF                             503.21  \n",
       "       GK                               52.56  \n",
       "       MID                             381.71  \n",
       "       OFF                             594.64  "
      ],
      "text/html": [
       "<div>\n",
       "<style scoped>\n",
       "    .dataframe tbody tr th:only-of-type {\n",
       "        vertical-align: middle;\n",
       "    }\n",
       "\n",
       "    .dataframe tbody tr th {\n",
       "        vertical-align: top;\n",
       "    }\n",
       "\n",
       "    .dataframe thead th {\n",
       "        text-align: right;\n",
       "    }\n",
       "</style>\n",
       "<table border=\"1\" class=\"dataframe\">\n",
       "  <thead>\n",
       "    <tr style=\"text-align: right;\">\n",
       "      <th></th>\n",
       "      <th></th>\n",
       "      <th>high_speed_distance_visible_active</th>\n",
       "      <th>high_speed_distance_visible_inactive</th>\n",
       "      <th>high_speed_distance_extrapolated</th>\n",
       "    </tr>\n",
       "    <tr>\n",
       "      <th>source</th>\n",
       "      <th>role</th>\n",
       "      <th></th>\n",
       "      <th></th>\n",
       "      <th></th>\n",
       "    </tr>\n",
       "  </thead>\n",
       "  <tbody>\n",
       "    <tr>\n",
       "      <th rowspan=\"4\" valign=\"top\">SF</th>\n",
       "      <th>DEF</th>\n",
       "      <td>208.58</td>\n",
       "      <td>162.06</td>\n",
       "      <td>371.41</td>\n",
       "    </tr>\n",
       "    <tr>\n",
       "      <th>GK</th>\n",
       "      <td>6.36</td>\n",
       "      <td>5.71</td>\n",
       "      <td>60.35</td>\n",
       "    </tr>\n",
       "    <tr>\n",
       "      <th>MID</th>\n",
       "      <td>202.27</td>\n",
       "      <td>160.79</td>\n",
       "      <td>348.35</td>\n",
       "    </tr>\n",
       "    <tr>\n",
       "      <th>OFF</th>\n",
       "      <td>276.93</td>\n",
       "      <td>223.09</td>\n",
       "      <td>486.00</td>\n",
       "    </tr>\n",
       "    <tr>\n",
       "      <th rowspan=\"4\" valign=\"top\">TV</th>\n",
       "      <th>DEF</th>\n",
       "      <td>106.75</td>\n",
       "      <td>32.97</td>\n",
       "      <td>503.21</td>\n",
       "    </tr>\n",
       "    <tr>\n",
       "      <th>GK</th>\n",
       "      <td>3.19</td>\n",
       "      <td>1.25</td>\n",
       "      <td>52.56</td>\n",
       "    </tr>\n",
       "    <tr>\n",
       "      <th>MID</th>\n",
       "      <td>131.05</td>\n",
       "      <td>39.73</td>\n",
       "      <td>381.71</td>\n",
       "    </tr>\n",
       "    <tr>\n",
       "      <th>OFF</th>\n",
       "      <td>157.53</td>\n",
       "      <td>50.48</td>\n",
       "      <td>594.64</td>\n",
       "    </tr>\n",
       "  </tbody>\n",
       "</table>\n",
       "</div>"
      ]
     },
     "execution_count": 67,
     "metadata": {},
     "output_type": "execute_result"
    }
   ],
   "execution_count": 67
  },
  {
   "cell_type": "code",
   "id": "ac3e44ee",
   "metadata": {
    "ExecuteTime": {
     "end_time": "2025-04-29T15:35:41.094289Z",
     "start_time": "2025-04-29T15:35:41.065377Z"
    }
   },
   "source": [
    "np.round(intensity_metrics.groupby([\"source\", \"role\"])[[\"high_speed_distance_visible_active\", \"high_speed_distance_visible_inactive\", \"high_speed_distance_extrapolated\"]].std(), 2)"
   ],
   "outputs": [
    {
     "data": {
      "text/plain": [
       "             high_speed_distance_visible_active  \\\n",
       "source role                                       \n",
       "SF     DEF                                68.65   \n",
       "       GK                                  5.99   \n",
       "       MID                                71.30   \n",
       "       OFF                                85.91   \n",
       "TV     DEF                                39.80   \n",
       "       GK                                  2.66   \n",
       "       MID                                49.62   \n",
       "       OFF                                45.60   \n",
       "\n",
       "             high_speed_distance_visible_inactive  \\\n",
       "source role                                         \n",
       "SF     DEF                                  70.87   \n",
       "       GK                                    5.46   \n",
       "       MID                                  75.21   \n",
       "       OFF                                  91.15   \n",
       "TV     DEF                                  14.65   \n",
       "       GK                                    1.05   \n",
       "       MID                                  20.09   \n",
       "       OFF                                  19.67   \n",
       "\n",
       "             high_speed_distance_extrapolated  \n",
       "source role                                    \n",
       "SF     DEF                             135.25  \n",
       "       GK                               53.67  \n",
       "       MID                             139.45  \n",
       "       OFF                             144.58  \n",
       "TV     DEF                             244.77  \n",
       "       GK                               73.50  \n",
       "       MID                             186.74  \n",
       "       OFF                             226.66  "
      ],
      "text/html": [
       "<div>\n",
       "<style scoped>\n",
       "    .dataframe tbody tr th:only-of-type {\n",
       "        vertical-align: middle;\n",
       "    }\n",
       "\n",
       "    .dataframe tbody tr th {\n",
       "        vertical-align: top;\n",
       "    }\n",
       "\n",
       "    .dataframe thead th {\n",
       "        text-align: right;\n",
       "    }\n",
       "</style>\n",
       "<table border=\"1\" class=\"dataframe\">\n",
       "  <thead>\n",
       "    <tr style=\"text-align: right;\">\n",
       "      <th></th>\n",
       "      <th></th>\n",
       "      <th>high_speed_distance_visible_active</th>\n",
       "      <th>high_speed_distance_visible_inactive</th>\n",
       "      <th>high_speed_distance_extrapolated</th>\n",
       "    </tr>\n",
       "    <tr>\n",
       "      <th>source</th>\n",
       "      <th>role</th>\n",
       "      <th></th>\n",
       "      <th></th>\n",
       "      <th></th>\n",
       "    </tr>\n",
       "  </thead>\n",
       "  <tbody>\n",
       "    <tr>\n",
       "      <th rowspan=\"4\" valign=\"top\">SF</th>\n",
       "      <th>DEF</th>\n",
       "      <td>68.65</td>\n",
       "      <td>70.87</td>\n",
       "      <td>135.25</td>\n",
       "    </tr>\n",
       "    <tr>\n",
       "      <th>GK</th>\n",
       "      <td>5.99</td>\n",
       "      <td>5.46</td>\n",
       "      <td>53.67</td>\n",
       "    </tr>\n",
       "    <tr>\n",
       "      <th>MID</th>\n",
       "      <td>71.30</td>\n",
       "      <td>75.21</td>\n",
       "      <td>139.45</td>\n",
       "    </tr>\n",
       "    <tr>\n",
       "      <th>OFF</th>\n",
       "      <td>85.91</td>\n",
       "      <td>91.15</td>\n",
       "      <td>144.58</td>\n",
       "    </tr>\n",
       "    <tr>\n",
       "      <th rowspan=\"4\" valign=\"top\">TV</th>\n",
       "      <th>DEF</th>\n",
       "      <td>39.80</td>\n",
       "      <td>14.65</td>\n",
       "      <td>244.77</td>\n",
       "    </tr>\n",
       "    <tr>\n",
       "      <th>GK</th>\n",
       "      <td>2.66</td>\n",
       "      <td>1.05</td>\n",
       "      <td>73.50</td>\n",
       "    </tr>\n",
       "    <tr>\n",
       "      <th>MID</th>\n",
       "      <td>49.62</td>\n",
       "      <td>20.09</td>\n",
       "      <td>186.74</td>\n",
       "    </tr>\n",
       "    <tr>\n",
       "      <th>OFF</th>\n",
       "      <td>45.60</td>\n",
       "      <td>19.67</td>\n",
       "      <td>226.66</td>\n",
       "    </tr>\n",
       "  </tbody>\n",
       "</table>\n",
       "</div>"
      ]
     },
     "execution_count": 68,
     "metadata": {},
     "output_type": "execute_result"
    }
   ],
   "execution_count": 68
  },
  {
   "cell_type": "markdown",
   "id": "6c8578fc",
   "metadata": {},
   "source": [
    "### Experiment 2"
   ]
  },
  {
   "cell_type": "code",
   "id": "5d4c5430",
   "metadata": {
    "ExecuteTime": {
     "end_time": "2025-04-29T15:35:41.364422Z",
     "start_time": "2025-04-29T15:35:41.344145Z"
    }
   },
   "source": [
    "# merge sub-formations (e.g. 4-4-2 flat and diamond to 4-4-2) since the subtypes were not labeled for this study \n",
    "formation_dict = {\n",
    "    \"451\": \"451\",\n",
    "    \"433 (1)\": \"433\",\n",
    "    \"433 (2)\": \"433\",\n",
    "    \"433 (3)\": \"433\",\n",
    "    \"433 (4)\": \"433\",\n",
    "    \"433 (5)\": \"433\",\n",
    "    \"442 (1)\": \"442\",\n",
    "    \"442 (2)\": \"442\",\n",
    "    \"424\": \"424\",\n",
    "    \"4231 (1)\": \"4231\",\n",
    "    \"4231 (2)\": \"4231\",\n",
    "    \"4141\": \"4141\",\n",
    "    \"4321\": \"4321\",\n",
    "    \"532\": \"532\",\n",
    "    \"541\": \"541\",\n",
    "    \"334\": \"334\",\n",
    "    \"343\": \"343\",\n",
    "    \"352\": \"352\"\n",
    "}"
   ],
   "outputs": [],
   "execution_count": 69
  },
  {
   "cell_type": "code",
   "id": "0b98dc9e",
   "metadata": {
    "ExecuteTime": {
     "end_time": "2025-04-29T15:35:41.611622Z",
     "start_time": "2025-04-29T15:35:41.578461Z"
    }
   },
   "source": [
    "formation_detection = pd.read_csv(f\"{base_path}/results/results_formation_detection.csv\").to_dict(orient=\"records\")"
   ],
   "outputs": [],
   "execution_count": 70
  },
  {
   "cell_type": "code",
   "id": "4ab673ec",
   "metadata": {
    "ExecuteTime": {
     "end_time": "2025-04-29T15:35:41.819215Z",
     "start_time": "2025-04-29T15:35:41.762366Z"
    }
   },
   "source": [
    "for scene in formation_detection:\n",
    "    scene[\"majority\"] = str(scene[\"majority\"])\n",
    "    scene[\"predictions_gt\"] = ast.literal_eval(scene[\"predictions_gt\"])\n",
    "    scene[\"predictions_gt\"] = [list(x) for x in scene[\"predictions_gt\"]]\n",
    "    scene[\"predictions_sf\"] = ast.literal_eval(scene[\"predictions_sf\"])\n",
    "    scene[\"predictions_sf\"] = [list(x) for x in scene[\"predictions_sf\"]]\n",
    "    scene[\"predictions_tv\"] = ast.literal_eval(scene[\"predictions_tv\"])\n",
    "    scene[\"predictions_tv\"] = [list(x) for x in scene[\"predictions_tv\"]]\n",
    "\n",
    "    scene[\"predictions_gt\"] = [[formation_dict[sublist[0]], sublist[1]] for sublist in scene[\"predictions_gt\"]]\n",
    "    scene[\"predictions_sf\"] = [[formation_dict[sublist[0]], sublist[1]] for sublist in scene[\"predictions_sf\"]]\n",
    "    scene[\"predictions_tv\"] = [[formation_dict[sublist[0]], sublist[1]] for sublist in scene[\"predictions_tv\"]]\n",
    "\n",
    "    scene.update({\"top1_gt\": scene[\"majority\"] in scene[\"predictions_gt\"][0]})\n",
    "    scene.update({\"top3_gt\": scene[\"majority\"] in [x[0] for x in scene[\"predictions_gt\"][0:3]]})\n",
    "    scene.update({\"top5_gt\": scene[\"majority\"] in [x[0] for x in scene[\"predictions_gt\"][0:5]]})\n",
    "\n",
    "    scene.update({\"top1_sf\": scene[\"majority\"] in scene[\"predictions_sf\"][0]})\n",
    "    scene.update({\"top3_sf\": scene[\"majority\"] in [x[0] for x in scene[\"predictions_sf\"][0:3]]})\n",
    "    scene.update({\"top5_sf\": scene[\"majority\"] in [x[0] for x in scene[\"predictions_sf\"][0:5]]})\n",
    "\n",
    "    scene.update({\"top1_tv\": scene[\"majority\"] in scene[\"predictions_tv\"][0]})\n",
    "    scene.update({\"top3_tv\": scene[\"majority\"] in [x[0] for x in scene[\"predictions_tv\"][0:3]]})\n",
    "    scene.update({\"top5_tv\": scene[\"majority\"] in [x[0] for x in scene[\"predictions_tv\"][0:5]]})\n",
    "\n",
    "formation_detection = pd.DataFrame(formation_detection)"
   ],
   "outputs": [],
   "execution_count": 71
  },
  {
   "cell_type": "code",
   "id": "bcd2ec12",
   "metadata": {
    "ExecuteTime": {
     "end_time": "2025-04-29T15:35:41.902556Z",
     "start_time": "2025-04-29T15:35:41.886903Z"
    }
   },
   "source": [
    "print(formation_detection[\"top1_gt\"].sum() / len(formation_detection))\n",
    "print(formation_detection[\"top3_gt\"].sum() / len(formation_detection))\n",
    "print(formation_detection[\"top5_gt\"].sum() / len(formation_detection))"
   ],
   "outputs": [
    {
     "name": "stdout",
     "output_type": "stream",
     "text": [
      "0.3130081300813008\n",
      "0.6097560975609756\n",
      "0.7520325203252033\n"
     ]
    }
   ],
   "execution_count": 72
  },
  {
   "cell_type": "code",
   "id": "573505be",
   "metadata": {
    "ExecuteTime": {
     "end_time": "2025-04-29T15:35:42.034905Z",
     "start_time": "2025-04-29T15:35:42.019262Z"
    }
   },
   "source": [
    "print(formation_detection[\"top1_sf\"].sum() / len(formation_detection))\n",
    "print(formation_detection[\"top3_sf\"].sum() / len(formation_detection))\n",
    "print(formation_detection[\"top5_sf\"].sum() / len(formation_detection))"
   ],
   "outputs": [
    {
     "name": "stdout",
     "output_type": "stream",
     "text": [
      "0.3130081300813008\n",
      "0.6056910569105691\n",
      "0.7398373983739838\n"
     ]
    }
   ],
   "execution_count": 73
  },
  {
   "cell_type": "code",
   "id": "23498f1e",
   "metadata": {
    "ExecuteTime": {
     "end_time": "2025-04-29T15:35:42.141451Z",
     "start_time": "2025-04-29T15:35:42.120485Z"
    }
   },
   "source": [
    "print(formation_detection[\"top1_tv\"].sum() / len(formation_detection))\n",
    "print(formation_detection[\"top3_tv\"].sum() / len(formation_detection))\n",
    "print(formation_detection[\"top5_tv\"].sum() / len(formation_detection))"
   ],
   "outputs": [
    {
     "name": "stdout",
     "output_type": "stream",
     "text": [
      "0.26422764227642276\n",
      "0.5203252032520326\n",
      "0.6666666666666666\n"
     ]
    }
   ],
   "execution_count": 74
  }
 ],
 "metadata": {
  "kernelspec": {
   "display_name": "Python 3 (ipykernel)",
   "language": "python",
   "name": "python3"
  },
  "language_info": {
   "codemirror_mode": {
    "name": "ipython",
    "version": 3
   },
   "file_extension": ".py",
   "mimetype": "text/x-python",
   "name": "python",
   "nbconvert_exporter": "python",
   "pygments_lexer": "ipython3",
   "version": "3.10.9"
  }
 },
 "nbformat": 4,
 "nbformat_minor": 5
}
