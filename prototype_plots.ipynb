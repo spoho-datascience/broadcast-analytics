{
 "cells": [
  {
   "cell_type": "markdown",
   "id": "0d4efb48",
   "metadata": {},
   "source": [
    "# Prototype: Field of View Projection\n",
    "This notebook demonstrates how player positions are filtered based on the camera field of view projected onto the pitch.\n",
    "Players outside the visible area are excluded.\n"
   ]
  },
  {
   "cell_type": "code",
   "id": "initial_id",
   "metadata": {
    "collapsed": true,
    "ExecuteTime": {
     "end_time": "2025-04-29T14:27:22.557876Z",
     "start_time": "2025-04-29T14:27:21.370846Z"
    }
   },
   "source": [
    "import numpy as np\n",
    "import jdata as jd\n",
    "from floodlight import XY, Pitch\n",
    "import matplotlib.pyplot as plt\n",
    "from shapely.geometry import Polygon, Point\n",
    "from shapely.prepared import prep\n",
    "\n",
    "from src.constants import MATCH_LENGTH, POSITIONS_4231, POSITIONS_352\n"
   ],
   "outputs": [],
   "execution_count": 1
  },
  {
   "metadata": {},
   "cell_type": "markdown",
   "source": "### Data preparation",
   "id": "2ea0c1ab5ae0262c"
  },
  {
   "cell_type": "code",
   "id": "818796d1e177a5cc",
   "metadata": {
    "ExecuteTime": {
     "end_time": "2025-04-29T14:27:24.580152Z",
     "start_time": "2025-04-29T14:27:24.564234Z"
    }
   },
   "source": [
    "# set match id\n",
    "match_id = \"DFL-MAT-0002UK\""
   ],
   "outputs": [],
   "execution_count": 2
  },
  {
   "cell_type": "code",
   "id": "71681d9650d84e05",
   "metadata": {
    "ExecuteTime": {
     "end_time": "2025-04-29T14:27:30.842183Z",
     "start_time": "2025-04-29T14:27:25.118268Z"
    }
   },
   "source": [
    "# Import data\n",
    "intersections = {\n",
    "    \"SF\": jd.load(f\"./data/pitch_intersections/SF_{match_id}_intersection.json\"),\n",
    "    \"TV\": jd.load(f\"./data/pitch_intersections/TV_{match_id}_intersection.json\")\n",
    "}\n",
    "\n",
    "home_formation = np.array(POSITIONS_4231)\n",
    "away_formation = np.array(POSITIONS_352)\n",
    "\n",
    "# Create dummy position data using fixed formations\n",
    "dummy_positions = {\n",
    "    \"firstHalf\": {\n",
    "        \"Home\": XY(np.full((MATCH_LENGTH[match_id][\"firstHalf\"], 22), home_formation)),\n",
    "        \"Away\": XY(np.full((MATCH_LENGTH[match_id][\"firstHalf\"], 22), away_formation))\n",
    "    },\n",
    "    \"secondHalf\": {\n",
    "        \"Home\": XY(np.full((MATCH_LENGTH[match_id][\"secondHalf\"], 22), home_formation)),\n",
    "        \"Away\": XY(np.full((MATCH_LENGTH[match_id][\"secondHalf\"], 22), away_formation))\n",
    "    }\n",
    "}"
   ],
   "outputs": [],
   "execution_count": 3
  },
  {
   "cell_type": "code",
   "id": "90eaada7e2b4eb18",
   "metadata": {
    "ExecuteTime": {
     "end_time": "2025-04-29T14:31:59.427992Z",
     "start_time": "2025-04-29T14:27:30.885132Z"
    }
   },
   "source": [
    "# Initialize visibility masks (all players initially visible)\n",
    "# Note: This can take several minutes of runtime\n",
    "player_visibility = {\n",
    "    source: {\n",
    "        half: {\n",
    "            team: np.ones((MATCH_LENGTH[match_id][half], dummy_positions[half][team].N))\n",
    "            for team in dummy_positions[half]\n",
    "        }\n",
    "        for half in dummy_positions\n",
    "    }\n",
    "    for source in [\"SF\", \"TV\"]\n",
    "}\n",
    "\n",
    "# Determine player visibility by checking if within the camera-view polygon\n",
    "for source in [\"SF\", \"TV\"]:\n",
    "    for half in dummy_positions:\n",
    "        for team in dummy_positions[half]:\n",
    "            for frame_idx, frame in enumerate(dummy_positions[half][team]):\n",
    "                polygon_coords = intersections[source][half][frame_idx]\n",
    "\n",
    "                # Skip frame if intersection polygon is not available\n",
    "                if polygon_coords is None:\n",
    "                    player_visibility[source][half][team][frame_idx, :] = 0\n",
    "                    continue\n",
    "\n",
    "                # Create shapely Polygon from (x, y) coords\n",
    "                pitch_polygon = prep(Polygon(zip(polygon_coords[0], polygon_coords[1])))\n",
    "\n",
    "                # Check each player's visibility\n",
    "                for player_idx, (x, y) in enumerate(zip(frame[::2], frame[1::2])):\n",
    "                    if not np.isnan((x, y)).any():\n",
    "                        player_point = Point(x, y)\n",
    "                        if not pitch_polygon.contains(player_point):\n",
    "                            player_visibility[source][half][team][frame_idx, player_idx] = 0"
   ],
   "outputs": [],
   "execution_count": 4
  },
  {
   "cell_type": "code",
   "id": "97b587fc0f8a33e9",
   "metadata": {
    "ExecuteTime": {
     "end_time": "2025-04-29T14:32:24.283443Z",
     "start_time": "2025-04-29T14:32:24.267472Z"
    }
   },
   "source": [
    "# Create Pitch object\n",
    "pitch = Pitch(xlim=(0, 105), ylim=(0, 68), unit=\"m\", boundaries=\"fixed\", sport=\"football\")"
   ],
   "outputs": [],
   "execution_count": 5
  },
  {
   "metadata": {},
   "cell_type": "markdown",
   "source": "### Settings",
   "id": "8a7b632fe23707d3"
  },
  {
   "cell_type": "code",
   "id": "664e89a8f7c3445b",
   "metadata": {
    "ExecuteTime": {
     "end_time": "2025-04-29T14:32:26.472451Z",
     "start_time": "2025-04-29T14:32:26.456577Z"
    }
   },
   "source": [
    "# Set half and frame\n",
    "half = (\"firstHalf\")\n",
    "frame = 1000\n",
    "\n",
    "alpha = [0.3, 1, 0.3]\n",
    "source = [\"SF\", \"TV\"]"
   ],
   "outputs": [],
   "execution_count": 6
  },
  {
   "cell_type": "code",
   "id": "ce2e93aff1cda6a1",
   "metadata": {
    "ExecuteTime": {
     "end_time": "2025-04-29T14:32:27.930094Z",
     "start_time": "2025-04-29T14:32:27.914227Z"
    }
   },
   "source": [
    "visible_home_sf = list(player_visibility[\"SF\"][half][\"Home\"][frame])\n",
    "visible_home_tv = list(player_visibility[\"TV\"][half][\"Home\"][frame])\n",
    "\n",
    "visible_away_sf = list(player_visibility[\"SF\"][half][\"Away\"][frame])\n",
    "visible_away_tv = list(player_visibility[\"TV\"][half][\"Away\"][frame])\n",
    "\n",
    "alpha_home_sf = [alpha[int(x)] if np.isnan(x) == False else alpha[0] for x in visible_home_sf]\n",
    "alpha_home_tv = [alpha[int(x)] if np.isnan(x) == False else alpha[0] for x in visible_home_tv]\n",
    "\n",
    "alpha_away_sf = [alpha[int(x)] if np.isnan(x) == False else alpha[0] for x in visible_away_sf]\n",
    "alpha_away_tv = [alpha[int(x)] if np.isnan(x) == False else alpha[0] for x in visible_away_tv]"
   ],
   "outputs": [],
   "execution_count": 7
  },
  {
   "cell_type": "code",
   "id": "f50dd9ca70caf122",
   "metadata": {
    "ExecuteTime": {
     "end_time": "2025-04-29T14:32:30.382466Z",
     "start_time": "2025-04-29T14:32:30.357439Z"
    }
   },
   "source": [
    "# polygon\n",
    "fov_sf = Polygon(zip(intersections[\"SF\"][half][frame][0], intersections[\"SF\"][half][frame][1]))\n",
    "fov_tv = Polygon(zip(intersections[\"TV\"][half][frame][0], intersections[\"TV\"][half][frame][1]))"
   ],
   "outputs": [],
   "execution_count": 8
  },
  {
   "metadata": {},
   "cell_type": "markdown",
   "source": "### Prototype plot",
   "id": "2d9ee49b1cfb4353"
  },
  {
   "cell_type": "code",
   "id": "f097a09aa4abd158",
   "metadata": {
    "ExecuteTime": {
     "end_time": "2025-04-29T14:32:32.191479Z",
     "start_time": "2025-04-29T14:32:32.037414Z"
    }
   },
   "source": [
    "fig, ax = plt.subplots(1, 2)\n",
    "\n",
    "ax[0].set_xlabel(\"SF\")\n",
    "ax[1].set_xlabel(\"TV\")\n",
    "\n",
    "pitch.plot(ax=ax[0])\n",
    "pitch.plot(ax=ax[1])\n",
    "\n",
    "dummy_positions[half][\"Home\"].plot(t=frame, color=\"blue\", alpha=alpha_home_sf, ax=ax[0])\n",
    "dummy_positions[half][\"Away\"].plot(t=frame, color=\"red\", alpha=alpha_away_sf, ax=ax[0])\n",
    "dummy_positions[half][\"Home\"].plot(t=frame, color=\"blue\", alpha=alpha_home_tv, ax=ax[1])\n",
    "dummy_positions[half][\"Away\"].plot(t=frame, color=\"red\", alpha=alpha_away_tv, ax=ax[1])\n",
    "\n",
    "if fov_sf is not None:\n",
    "    if hasattr(fov_sf, \"exterior\"):\n",
    "        fov_sf = fov_sf.simplify(0.1)\n",
    "        ax[0].plot(*fov_sf.exterior.xy, color=\"black\")\n",
    "    else:\n",
    "        for geom in fov_sf.geoms:\n",
    "            ax[0].plot(*geom.exterior.xy, color=\"black\")\n",
    "\n",
    "if fov_tv is not None:\n",
    "    if hasattr(fov_tv, \"exterior\"):\n",
    "        fov_tv = fov_tv.simplify(0.1)\n",
    "        ax[1].plot(*fov_tv.exterior.xy, color=\"black\")\n",
    "    else:\n",
    "        for geom in fov_tv.geoms:\n",
    "            ax[1].plot(*geom.exterior.xy, color=\"black\")"
   ],
   "outputs": [
    {
     "data": {
      "text/plain": [
       "<Figure size 640x480 with 2 Axes>"
      ],
      "image/png": "[encoded data removed]"
     },
     "metadata": {},
     "output_type": "display_data"
    }
   ],
   "execution_count": 9
  },
  {
   "cell_type": "markdown",
   "id": "dc48d24b",
   "metadata": {},
   "source": "_**Figure:** Example of field of views projected onto the pitch with player visibility masking applied (per source for one frame)._"
  }
 ],
 "metadata": {
  "kernelspec": {
   "display_name": "Python 3",
   "language": "python",
   "name": "python3"
  },
  "language_info": {
   "codemirror_mode": {
    "name": "ipython",
    "version": 2
   },
   "file_extension": ".py",
   "mimetype": "text/x-python",
   "name": "python",
   "nbconvert_exporter": "python",
   "pygments_lexer": "ipython2",
   "version": "2.7.6"
  }
 },
 "nbformat": 4,
 "nbformat_minor": 5
}
